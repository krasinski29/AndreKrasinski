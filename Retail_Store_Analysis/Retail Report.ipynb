{
 "cells": [
  {
   "cell_type": "markdown",
   "metadata": {},
   "source": [
    "# Analysis of the online retail store in the year 2011"
   ]
  },
  {
   "cell_type": "code",
   "execution_count": null,
   "metadata": {},
   "outputs": [],
   "source": [
    "import function as f "
   ]
  },
  {
   "cell_type": "markdown",
   "metadata": {},
   "source": [
    "The dataset we are using comes from UCI Machine Learning repository. The dataset is called “Online Retail” and can be found http://archive.ics.uci.edu/ml/datasets/online+retail. "
   ]
  },
  {
   "cell_type": "code",
   "execution_count": null,
   "metadata": {},
   "outputs": [],
   "source": [
    "#read dataset: \n",
    "retail_db = f.read_dataset()"
   ]
  },
  {
   "cell_type": "markdown",
   "metadata": {},
   "source": [
    "After pre-processing, the dataset includes 379.979 records and 17 fields:\n",
    "\n",
    "**invoice_id, stock_code,**\n",
    "\n",
    "**description, quantity,** \n",
    "  \n",
    "**invoice_date, unit_price,**\n",
    "  \n",
    "**customer_id, country,**\n",
    "  \n",
    "**order_status, sales(£),** \n",
    "  \n",
    "**sales(£)_abs, quantity_abs,** \n",
    "  \n",
    "**time, hour, date, month, year**"
   ]
  },
  {
   "cell_type": "code",
   "execution_count": null,
   "metadata": {},
   "outputs": [],
   "source": [
    "#data pre-processing:\n",
    "RETAIL = f.data_pre_processing(retail_db)"
   ]
  },
  {
   "cell_type": "markdown",
   "metadata": {},
   "source": [
    "With the pre-processing data let's go deep into the store behavior during the year 2011."
   ]
  },
  {
   "cell_type": "code",
   "execution_count": null,
   "metadata": {},
   "outputs": [],
   "source": [
    "#finance and sales report:\n",
    "\n",
    "FINANCE_REPORT, SALES_REPORT = f.finance_and_sales_report(RETAIL)\n",
    "\n",
    "#customer and product behaviors:\n",
    "\n",
    "COUNTRY_TOP10, TIME, RETURNED, REPURCHASE_RATE, PROD_TOP10, SALES_TOP10, ITEM_INVOICE = f.customer_and_product_behavior(RETAIL)\n",
    "\n",
    "#Charts:\n",
    "\n",
    "SALES_CHT_LINE, TIME_HIST, SALES_TOP10_CHT_BAR, PROD_TOP10_CHT_BAR, ITEM_INV_HIST = f.charts(SALES_REPORT, TIME, SALES_TOP10, PROD_TOP10,ITEM_INVOICE)\n"
   ]
  },
  {
   "cell_type": "markdown",
   "metadata": {},
   "source": [
    "## REPORT"
   ]
  },
  {
   "cell_type": "markdown",
   "metadata": {},
   "source": [
    "This is a transnational data set which contains all the transactions occurring between 01/12/2010 and 09/12/2011 for a UK-based and registered non-store online retail.\n",
    "\n",
    "The company mainly sells unique all-occasion gifts. Many customers of the company are wholesalers.\n",
    "\n",
    "The Year of 2011, this store has 8.9 M£ in revenue and sold almost 5M in products. Presented in this year an average ticket of 23.51£.\n",
    "\n",
    "Below is possible to see the financial report."
   ]
  },
  {
   "cell_type": "code",
   "execution_count": null,
   "metadata": {},
   "outputs": [],
   "source": [
    "FINANCE_REPORT"
   ]
  },
  {
   "cell_type": "markdown",
   "metadata": {},
   "source": [
    "In a way to study the financial behavior of this company, it was possible to separate the revenue and products volumes along the year month by month.\n",
    "\n",
    "Comparing the period of September to November it is possible to identify that revenue and volumes increased almost 50% compared to the first semester. \n",
    "This behavior might be justified by the end-year parties and the promotional dates such as Black Friday in November. \n",
    "An indication of that might be the sales decrease in December."
   ]
  },
  {
   "cell_type": "code",
   "execution_count": null,
   "metadata": {},
   "outputs": [],
   "source": [
    "SALES_CHT_LINE"
   ]
  },
  {
   "cell_type": "markdown",
   "metadata": {},
   "source": [
    "As online retail, the stores have registered sales in 36 countries. Although the store sells worldwide, \n",
    "its main market is the United Kingdom responsible for 81% (approx £6M) of sales in 2011."
   ]
  },
  {
   "cell_type": "code",
   "execution_count": null,
   "metadata": {},
   "outputs": [],
   "source": [
    "COUNTRY_TOP10"
   ]
  },
  {
   "cell_type": "markdown",
   "metadata": {},
   "source": [
    "There are many ways to validate customer fidelity, one of which is the repurchase rate.\n",
    "\n",
    "The repurchase rate of that store is 98.23% that means that the customers return to buy after the first time. \n",
    "\n",
    "as we can see with a 2.16% of the invoices with status canceled (products returns) the satisfaction with the products is high also so, probably, the main reason for these returns is for give-up or it didn't attend the customers expectations."
   ]
  },
  {
   "cell_type": "code",
   "execution_count": null,
   "metadata": {},
   "outputs": [],
   "source": [
    "print('Repurchases rate {}%.'.format(REPURCHASE_RATE).upper())\n",
    "\n",
    "RETURNED"
   ]
  },
  {
   "cell_type": "markdown",
   "metadata": {},
   "source": [
    "Now that we know most of the customers as fidelity to the store we can analyze the top 10 products behaviors, in what time the customers used to buy, and how many items are ordered by invoices. \n",
    "This kind of information could give some insight to raise the sales."
   ]
  },
  {
   "cell_type": "markdown",
   "metadata": {},
   "source": [
    "There is a bias between the hour of the day and order volume. \n",
    "With the histogram, we could conclude that most orders happened between 10:00 - 15:00.\n",
    "So if the company is going to do a promotional voucher, probably, must avoid this time and do during the time people don't use to buy such as between 6 AM - 9 AM or 5 PM - 7 PM to increase the number of orders during this hours."
   ]
  },
  {
   "cell_type": "code",
   "execution_count": null,
   "metadata": {},
   "outputs": [],
   "source": [
    "TIME_HIST"
   ]
  },
  {
   "cell_type": "markdown",
   "metadata": {},
   "source": [
    "Invoices with C in the register are considered a cancel order. ​so we consider it as a return. \n",
    "We could conclude that people mostly purchase less than 10 items in each invoice"
   ]
  },
  {
   "cell_type": "code",
   "execution_count": null,
   "metadata": {},
   "outputs": [],
   "source": [
    "ITEM_INV_HIST"
   ]
  },
  {
   "cell_type": "markdown",
   "metadata": {},
   "source": [
    "below it is possible to see the top 10 products that brought more revenue and also the top 10 products most sold."
   ]
  },
  {
   "cell_type": "code",
   "execution_count": null,
   "metadata": {},
   "outputs": [],
   "source": [
    "SALES_TOP10_CHT_BAR"
   ]
  },
  {
   "cell_type": "code",
   "execution_count": null,
   "metadata": {},
   "outputs": [],
   "source": [
    "PROD_TOP10_CHT_BAR"
   ]
  }
 ],
 "metadata": {
  "kernelspec": {
   "display_name": "Python 3",
   "language": "python",
   "name": "python3"
  },
  "language_info": {
   "codemirror_mode": {
    "name": "ipython",
    "version": 3
   },
   "file_extension": ".py",
   "mimetype": "text/x-python",
   "name": "python",
   "nbconvert_exporter": "python",
   "pygments_lexer": "ipython3",
   "version": "3.8.3"
  }
 },
 "nbformat": 4,
 "nbformat_minor": 4
}
